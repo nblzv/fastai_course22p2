{
 "cells": [
  {
   "cell_type": "code",
   "execution_count": 1,
   "metadata": {},
   "outputs": [],
   "source": [
    "import datasets as hfds\n",
    "\n",
    "import minai.datasets as minds\n",
    "import minai.data as mind\n",
    "import minai.sampler as mins\n",
    "import minai.plot as minplt\n",
    "\n",
    "minplt.default_cmap(\"gray\")\n",
    "minplt.default_title_color(\"white\")"
   ]
  },
  {
   "cell_type": "code",
   "execution_count": 24,
   "metadata": {},
   "outputs": [],
   "source": [
    "%load_ext autoreload\n",
    "%autoreload 2"
   ]
  },
  {
   "cell_type": "code",
   "execution_count": 2,
   "metadata": {},
   "outputs": [
    {
     "name": "stderr",
     "output_type": "stream",
     "text": [
      "Found cached dataset fashion_mnist (/home/nblzv/.cache/huggingface/datasets/fashion_mnist/fashion_mnist/1.0.0/0a671f063342996f19779d38c0ab4abef9c64f757b35af8134b331c294d7ba48)\n"
     ]
    },
    {
     "data": {
      "application/vnd.jupyter.widget-view+json": {
       "model_id": "713ce4110be94b6d961a75242de83b91",
       "version_major": 2,
       "version_minor": 0
      },
      "text/plain": [
       "  0%|          | 0/2 [00:00<?, ?it/s]"
      ]
     },
     "metadata": {},
     "output_type": "display_data"
    }
   ],
   "source": [
    "dsd = minds.hf_load(minds.HF_DATASETS.FASHION_MNIST)"
   ]
  },
  {
   "cell_type": "code",
   "execution_count": 3,
   "metadata": {},
   "outputs": [],
   "source": [
    "tdsd = dsd.with_transform(\n",
    "    mind.HFTransform.ff_img_decode_to_tensor(mind.first_value(dsd).features),\n",
    ").cast_column(\"image\", hfds.Image(decode=False))"
   ]
  },
  {
   "cell_type": "code",
   "execution_count": 49,
   "metadata": {},
   "outputs": [
    {
     "data": {
      "image/png": "[encoded data removed]",
      "text/plain": [
       "<Figure size 200x200 with 1 Axes>"
      ]
     },
     "metadata": {},
     "output_type": "display_data"
    }
   ],
   "source": [
    "dl = mind.DataLoader.hf(tdsd[\"train\"])\n",
    "batch = mind.first(dl)\n",
    "minplt.show_img(batch[0][0], minplt.PlotOpts(title=batch[1][0], figsize=(2, 2)))"
   ]
  },
  {
   "cell_type": "code",
   "execution_count": 52,
   "metadata": {},
   "outputs": [
    {
     "data": {
      "image/png": "[encoded data removed]",
      "text/plain": [
       "<Figure size 400x400 with 9 Axes>"
      ]
     },
     "metadata": {},
     "output_type": "display_data"
    }
   ],
   "source": [
    "opts = minplt.PlotOpts(rows=3, \n",
    "                       cols=3, \n",
    "                       figsize=(4, 4),\n",
    "                       title=\"Batch\",\n",
    "                       titles=[[x, -x] for x in batch[1]])\n",
    "minplt.show_batch(batch[0], opts)"
   ]
  },
  {
   "cell_type": "code",
   "execution_count": 60,
   "metadata": {},
   "outputs": [
    {
     "data": {
      "text/plain": [
       "DataLoader(ds=Dataset({\n",
       "    features: ['image', 'label'],\n",
       "    num_rows: 60000\n",
       "}),\n",
       "    CMTO(SIO(batch_size=16, shuffle=False, drop_last=False),\n",
       "        getitem_func=Dataset.__getitem__,\n",
       "        collate_func=HFCollate.__call__,\n",
       "        num_workers=4,\n",
       "        max_available_batches=2,\n",
       "        chunk_size_per_thread=4,\n",
       "        is_hf_ds=True)\n",
       ")"
      ]
     },
     "execution_count": 60,
     "metadata": {},
     "output_type": "execute_result"
    }
   ],
   "source": [
    "dls = mind.DataLoaders.hf(tdsd, mins.SIO(16))\n",
    "dls.train"
   ]
  },
  {
   "cell_type": "code",
   "execution_count": null,
   "metadata": {},
   "outputs": [],
   "source": []
  }
 ],
 "metadata": {
  "kernelspec": {
   "display_name": "base",
   "language": "python",
   "name": "python3"
  },
  "language_info": {
   "codemirror_mode": {
    "name": "ipython",
    "version": 3
   },
   "file_extension": ".py",
   "mimetype": "text/x-python",
   "name": "python",
   "nbconvert_exporter": "python",
   "pygments_lexer": "ipython3",
   "version": "3.11.4"
  },
  "orig_nbformat": 4
 },
 "nbformat": 4,
 "nbformat_minor": 2
}
