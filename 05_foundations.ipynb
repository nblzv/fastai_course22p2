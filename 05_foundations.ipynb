{
 "cells": [
  {
   "cell_type": "code",
   "execution_count": 2,
   "metadata": {},
   "outputs": [],
   "source": [
    "import torch\n",
    "import matplotlib.pyplot as plt\n",
    "import random"
   ]
  },
  {
   "cell_type": "code",
   "execution_count": 3,
   "metadata": {},
   "outputs": [],
   "source": [
    "import ipywidgets as wgt"
   ]
  },
  {
   "cell_type": "code",
   "execution_count": 4,
   "metadata": {},
   "outputs": [
    {
     "name": "stdout",
     "output_type": "stream",
     "text": [
      "Button(description='Click', style=ButtonStyle())\n",
      "Button(description='Click', style=ButtonStyle())\n",
      "Button(description='Click', style=ButtonStyle())\n",
      "Button(description='Click', style=ButtonStyle())\n"
     ]
    }
   ],
   "source": [
    "w = wgt.Button(description=\"Click\")"
   ]
  },
  {
   "cell_type": "code",
   "execution_count": 5,
   "metadata": {},
   "outputs": [
    {
     "data": {
      "application/vnd.jupyter.widget-view+json": {
       "model_id": "3db2c214b5854988b37163e10a01b8ee",
       "version_major": 2,
       "version_minor": 0
      },
      "text/plain": [
       "Button(description='Click', style=ButtonStyle())"
      ]
     },
     "execution_count": 5,
     "metadata": {},
     "output_type": "execute_result"
    }
   ],
   "source": [
    "w"
   ]
  },
  {
   "cell_type": "code",
   "execution_count": 6,
   "metadata": {},
   "outputs": [],
   "source": [
    "def f(o): print(o)"
   ]
  },
  {
   "cell_type": "code",
   "execution_count": 7,
   "metadata": {},
   "outputs": [],
   "source": [
    "w.on_click(f)"
   ]
  },
  {
   "cell_type": "code",
   "execution_count": 8,
   "metadata": {},
   "outputs": [],
   "source": [
    "from time import sleep"
   ]
  },
  {
   "cell_type": "code",
   "execution_count": 9,
   "metadata": {},
   "outputs": [],
   "source": [
    "def func():\n",
    "    res = 0\n",
    "    for i in range(5):\n",
    "        res += i*i\n",
    "        sleep(0.1)\n",
    "    return res"
   ]
  },
  {
   "cell_type": "code",
   "execution_count": 10,
   "metadata": {},
   "outputs": [
    {
     "data": {
      "text/plain": [
       "30"
      ]
     },
     "execution_count": 10,
     "metadata": {},
     "output_type": "execute_result"
    }
   ],
   "source": [
    "func()"
   ]
  },
  {
   "cell_type": "code",
   "execution_count": 16,
   "metadata": {},
   "outputs": [],
   "source": [
    "def func(cb=None):\n",
    "    res = 0\n",
    "    for i in range(5):\n",
    "        res += i*i\n",
    "        sleep(0.3)\n",
    "        if cb: cb(res)\n",
    "    return res"
   ]
  },
  {
   "cell_type": "code",
   "execution_count": 22,
   "metadata": {},
   "outputs": [],
   "source": [
    "def cb(res): print(f\"Result so far: {res}\", flush=True)"
   ]
  },
  {
   "cell_type": "code",
   "execution_count": 23,
   "metadata": {},
   "outputs": [
    {
     "name": "stdout",
     "output_type": "stream",
     "text": [
      "Result so far: 0\n",
      "Result so far: 1\n",
      "Result so far: 5\n",
      "Result so far: 14\n",
      "Result so far: 30\n"
     ]
    },
    {
     "data": {
      "text/plain": [
       "30"
      ]
     },
     "execution_count": 23,
     "metadata": {},
     "output_type": "execute_result"
    }
   ],
   "source": [
    "func(cb)"
   ]
  },
  {
   "cell_type": "code",
   "execution_count": 24,
   "metadata": {},
   "outputs": [
    {
     "name": "stdout",
     "output_type": "stream",
     "text": [
      "Result so far: 0\n",
      "Result so far: 1\n",
      "Result so far: 5\n",
      "Result so far: 14\n",
      "Result so far: 30\n"
     ]
    },
    {
     "data": {
      "text/plain": [
       "30"
      ]
     },
     "execution_count": 24,
     "metadata": {},
     "output_type": "execute_result"
    }
   ],
   "source": [
    "func(lambda res: print(f\"Result so far: {res}\", flush=True))"
   ]
  },
  {
   "cell_type": "code",
   "execution_count": 25,
   "metadata": {},
   "outputs": [
    {
     "name": "stdout",
     "output_type": "stream",
     "text": [
      "Result so far wrap: 0\n",
      "Result so far wrap: 1\n",
      "Result so far wrap: 5\n",
      "Result so far wrap: 14\n",
      "Result so far wrap: 30\n"
     ]
    },
    {
     "data": {
      "text/plain": [
       "30"
      ]
     },
     "execution_count": 25,
     "metadata": {},
     "output_type": "execute_result"
    }
   ],
   "source": [
    "def cb(first_part, res):\n",
    "    print(f\"{first_part}: {res}\", flush=True)\n",
    "\n",
    "def cbwrap(res):\n",
    "    cb(\"Result so far wrap\", res)\n",
    "\n",
    "func(cbwrap)"
   ]
  },
  {
   "cell_type": "code",
   "execution_count": 27,
   "metadata": {},
   "outputs": [
    {
     "name": "stdout",
     "output_type": "stream",
     "text": [
      "Result so far partial: 0\n",
      "Result so far partial: 1\n",
      "Result so far partial: 5\n",
      "Result so far partial: 14\n",
      "Result so far partial: 30\n"
     ]
    },
    {
     "data": {
      "text/plain": [
       "30"
      ]
     },
     "execution_count": 27,
     "metadata": {},
     "output_type": "execute_result"
    }
   ],
   "source": [
    "from functools import partial\n",
    "\n",
    "cbwrap = partial(cb, \"Result so far partial\")\n",
    "func(cbwrap)"
   ]
  },
  {
   "cell_type": "code",
   "execution_count": 28,
   "metadata": {},
   "outputs": [
    {
     "name": "stdout",
     "output_type": "stream",
     "text": [
      "Result so far class: 0\n",
      "Result so far class: 1\n",
      "Result so far class: 5\n",
      "Result so far class: 14\n",
      "Result so far class: 30\n"
     ]
    },
    {
     "data": {
      "text/plain": [
       "30"
      ]
     },
     "execution_count": 28,
     "metadata": {},
     "output_type": "execute_result"
    }
   ],
   "source": [
    "class ClassCB:\n",
    "    def __init__(self, first_part):\n",
    "        self.first_part = first_part\n",
    "    \n",
    "    def __call__(self, res):\n",
    "        print(f\"{self.first_part}: {res}\")\n",
    "\n",
    "cb = ClassCB(\"Result so far class\")\n",
    "func(cb)"
   ]
  },
  {
   "cell_type": "code",
   "execution_count": 29,
   "metadata": {},
   "outputs": [
    {
     "name": "stdout",
     "output_type": "stream",
     "text": [
      "(1, 2) {'c': 3}\n"
     ]
    }
   ],
   "source": [
    "def foo(*args, **kwargs):\n",
    "    print(args, kwargs)\n",
    "\n",
    "foo(1, 2, c=3)"
   ]
  },
  {
   "cell_type": "code",
   "execution_count": 30,
   "metadata": {},
   "outputs": [
    {
     "name": "stdout",
     "output_type": "stream",
     "text": [
      "(1, 2) {'c': 3}\n"
     ]
    }
   ],
   "source": [
    "args = [1, 2]\n",
    "kwargs = {\"c\": 3}\n",
    "foo(*args, **kwargs)"
   ]
  },
  {
   "cell_type": "code",
   "execution_count": 52,
   "metadata": {},
   "outputs": [],
   "source": [
    "def func(cb=None):\n",
    "    res = 0\n",
    "    for i in range(5):\n",
    "        if cb: cb.start_of_loop(res)\n",
    "        res += i*i\n",
    "        sleep(0.2)\n",
    "        if cb: cb.end_of_loop(res)\n",
    "    return res"
   ]
  },
  {
   "cell_type": "code",
   "execution_count": 53,
   "metadata": {},
   "outputs": [],
   "source": [
    "class MultiCBClass:\n",
    "    def start_of_loop(self, res):\n",
    "        print(f\"Start of loop: {res}\")\n",
    "\n",
    "    def end_of_loop(self, res):\n",
    "        print(f\"End of loop: {res}\")"
   ]
  },
  {
   "cell_type": "code",
   "execution_count": 54,
   "metadata": {},
   "outputs": [
    {
     "name": "stdout",
     "output_type": "stream",
     "text": [
      "Start of loop: 0\n",
      "End of loop: 0\n",
      "Start of loop: 0\n",
      "End of loop: 1\n",
      "Start of loop: 1\n",
      "End of loop: 5\n",
      "Start of loop: 5\n",
      "End of loop: 14\n",
      "Start of loop: 14\n",
      "End of loop: 30\n"
     ]
    },
    {
     "data": {
      "text/plain": [
       "30"
      ]
     },
     "execution_count": 54,
     "metadata": {},
     "output_type": "execute_result"
    }
   ],
   "source": [
    "cb = MultiCBClass()\n",
    "func(cb)"
   ]
  },
  {
   "cell_type": "code",
   "execution_count": 64,
   "metadata": {},
   "outputs": [],
   "source": [
    "def func(cb=None):\n",
    "    res = 0\n",
    "    for i in range(10000000):\n",
    "        if cb: cb.start_of_loop(res)\n",
    "        res += i*i\n",
    "        if cb: cb.end_of_loop(res)\n",
    "    return res"
   ]
  },
  {
   "cell_type": "code",
   "execution_count": 65,
   "metadata": {},
   "outputs": [
    {
     "name": "stdout",
     "output_type": "stream",
     "text": [
      "705 ms ± 40.4 ms per loop (mean ± std. dev. of 7 runs, 1 loop each)\n"
     ]
    }
   ],
   "source": [
    "%timeit func()"
   ]
  },
  {
   "cell_type": "code",
   "execution_count": 70,
   "metadata": {},
   "outputs": [],
   "source": [
    "class MultiCBClass:\n",
    "    def start_of_loop(self, *args, **kwargs):\n",
    "        pass\n",
    "\n",
    "    def end_of_loop(self, *args, **kwargs):\n",
    "        pass\n",
    "\n",
    "noop_cb = MultiCBClass()"
   ]
  },
  {
   "cell_type": "code",
   "execution_count": 71,
   "metadata": {},
   "outputs": [],
   "source": [
    "def func(cb=noop_cb):\n",
    "    res = 0\n",
    "    for i in range(10000000):\n",
    "        cb.start_of_loop(res)\n",
    "        res += i*i\n",
    "        cb.end_of_loop(res)\n",
    "    return res"
   ]
  },
  {
   "cell_type": "code",
   "execution_count": 72,
   "metadata": {},
   "outputs": [
    {
     "name": "stdout",
     "output_type": "stream",
     "text": [
      "2.13 s ± 48.6 ms per loop (mean ± std. dev. of 7 runs, 1 loop each)\n"
     ]
    }
   ],
   "source": [
    "# Big sad, 3x slower for a noop :(\n",
    "%timeit func()"
   ]
  },
  {
   "cell_type": "code",
   "execution_count": null,
   "metadata": {},
   "outputs": [],
   "source": []
  }
 ],
 "metadata": {
  "kernelspec": {
   "display_name": "base",
   "language": "python",
   "name": "python3"
  },
  "language_info": {
   "codemirror_mode": {
    "name": "ipython",
    "version": 3
   },
   "file_extension": ".py",
   "mimetype": "text/x-python",
   "name": "python",
   "nbconvert_exporter": "python",
   "pygments_lexer": "ipython3",
   "version": "3.11.4"
  },
  "orig_nbformat": 4
 },
 "nbformat": 4,
 "nbformat_minor": 2
}
