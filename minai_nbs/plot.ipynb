{
 "cells": [
  {
   "cell_type": "code",
   "execution_count": 1,
   "metadata": {},
   "outputs": [],
   "source": [
    "#e\n",
    "import copy\n",
    "\n",
    "import matplotlib.pyplot as plt\n",
    "import torch\n",
    "\n",
    "#plt.style.use(\"dark_background\")"
   ]
  },
  {
   "cell_type": "code",
   "execution_count": null,
   "metadata": {},
   "outputs": [],
   "source": [
    "#e\n",
    "def default_cmap(param): plt.rcParams.update({\"image.cmap\": param})\n",
    "def default_title_color(param): plt.rcParams.update({\"text.color\": param})"
   ]
  },
  {
   "cell_type": "code",
   "execution_count": 4,
   "metadata": {},
   "outputs": [],
   "source": [
    "#e\n",
    "class PlotOpts:\n",
    "    def __init__(self, figsize=None, cmap=None, ax=None, title=None,\n",
    "                 titles=None, rows=None, cols=None, fontsize=None,\n",
    "                 supfontsize=None, wspace=None, hspace=None):\n",
    "        self.figsize = figsize\n",
    "        self.cmap = cmap\n",
    "        self.ax = ax\n",
    "        self.title = title\n",
    "        self.titles = titles\n",
    "        self.rows = rows\n",
    "        self.cols = cols\n",
    "        self.fontsize = fontsize\n",
    "        self.supfontsize = supfontsize\n",
    "        self.wspace = wspace\n",
    "        self.hspace = hspace\n",
    "\n",
    "def show_img(img, opts: PlotOpts = None):\n",
    "    opts = opts or PlotOpts()\n",
    "    \n",
    "    assert type(img) is torch.Tensor\n",
    "    if img.device != \"cpu\": img = img.detach().to(\"cpu\")\n",
    "    img = img.permute(1, 2, 0)\n",
    "\n",
    "    ax = opts.ax\n",
    "    if not opts.ax:\n",
    "        fig, ax = plt.subplots(1, 1, figsize=opts.figsize)\n",
    "        fig.patch.set_visible(False)\n",
    "        ax.axis(\"off\")\n",
    "\n",
    "    if type(opts.title) is torch.Tensor: opts.title = str(opts.title.item())\n",
    "\n",
    "    ax.imshow(img, cmap=opts.cmap)\n",
    "    ax.set_title(opts.title, fontsize=opts.fontsize)\n",
    "\n",
    "def show_batch(imgs, opts: PlotOpts):\n",
    "    fig, axs = plt.subplots(opts.rows, opts.cols, figsize=opts.figsize, \n",
    "                            layout=\"constrained\", \n",
    "                            gridspec_kw={\"wspace\": opts.wspace, \n",
    "                                         \"hspace\": opts.hspace})\n",
    "    fig.patch.set_visible(False)\n",
    "    fig.suptitle(opts.title, size=opts.supfontsize)\n",
    "    \n",
    "    if opts.rows*opts.cols == 1: axs = [axs]\n",
    "    else: axs = axs.flatten()\n",
    "\n",
    "    if opts.titles:\n",
    "        if type(opts.titles[0]) is list:\n",
    "            opts.titles = [\" | \".join(str(i) for i in x) for x in opts.titles]\n",
    "\n",
    "    for i, ax in enumerate(axs):\n",
    "        ax.axis(\"off\")\n",
    "\n",
    "        if i < len(imgs):\n",
    "            imgopts = copy.copy(opts)\n",
    "            imgopts.ax = ax\n",
    "            imgopts.title = opts.titles[i] if opts.titles else None\n",
    "            show_img(imgs[i], imgopts)\n"
   ]
  },
  {
   "cell_type": "code",
   "execution_count": null,
   "metadata": {},
   "outputs": [],
   "source": []
  },
  {
   "cell_type": "code",
   "execution_count": null,
   "metadata": {},
   "outputs": [],
   "source": []
  },
  {
   "cell_type": "code",
   "execution_count": 6,
   "metadata": {},
   "outputs": [
    {
     "name": "stdout",
     "output_type": "stream",
     "text": [
      "Processing minai_nbs/datasets.ipynb -> minai/minai/datasets.py  |  same contents, skipping, took 0.001s\n",
      "Processing minai_nbs/sampler.ipynb -> minai/minai/sampler.py  |  same contents, skipping, took 0.000s\n",
      "Processing minai_nbs/setup+template.py -> minai/setup.py  |  same contents, skipping, took 0.000s\n",
      "Processing minai_nbs/__init__+template.py -> minai/minai/__init__.py  |  same contents, skipping, took 0.000s\n",
      "Processing minai_nbs/plot.ipynb -> minai/minai/plot.py  |  same contents, skipping, took 0.000s\n",
      "Processing minai_nbs/mintils.py -> minai/minai/mintils.py  |  same contents, skipping, took 0.000s\n",
      "Processing minai_nbs/data.ipynb -> minai/minai/data.py  |  same contents, skipping, took 0.000s\n",
      "\n",
      "All done... took 0.003s\n",
      "  lib_name: minai\n",
      "  author: nblzv\n",
      "  version: 0.1.1\n"
     ]
    }
   ],
   "source": [
    "import z_export\n",
    "z_export.export()"
   ]
  },
  {
   "cell_type": "code",
   "execution_count": null,
   "metadata": {},
   "outputs": [],
   "source": []
  }
 ],
 "metadata": {
  "kernelspec": {
   "display_name": "base",
   "language": "python",
   "name": "python3"
  },
  "language_info": {
   "codemirror_mode": {
    "name": "ipython",
    "version": 3
   },
   "file_extension": ".py",
   "mimetype": "text/x-python",
   "name": "python",
   "nbconvert_exporter": "python",
   "pygments_lexer": "ipython3",
   "version": "3.11.4"
  },
  "orig_nbformat": 4
 },
 "nbformat": 4,
 "nbformat_minor": 2
}
