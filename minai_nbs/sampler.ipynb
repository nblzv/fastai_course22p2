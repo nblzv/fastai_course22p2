{
 "cells": [
  {
   "cell_type": "code",
   "execution_count": 1,
   "metadata": {},
   "outputs": [],
   "source": [
    "#e\n",
    "import itertools\n",
    "import random"
   ]
  },
  {
   "cell_type": "code",
   "execution_count": 2,
   "metadata": {},
   "outputs": [
    {
     "data": {
      "text/plain": [
       "[(0, 1, 2, 3), (4, 0, 3, 1)]"
      ]
     },
     "execution_count": 2,
     "metadata": {},
     "output_type": "execute_result"
    }
   ],
   "source": [
    "bs = 4\n",
    "num_items = 5\n",
    "indices = tuple(range(num_items))\n",
    "\n",
    "full_batches = (num_items) // bs\n",
    "last_full_batch_index = full_batches*bs\n",
    "leftover = num_items - last_full_batch_index\n",
    "\n",
    "it = iter(indices)\n",
    "batches = list(tuple(itertools.islice(it, bs)) for _ in range(full_batches))\n",
    "\n",
    "if leftover:\n",
    "    need_extra = bs - leftover\n",
    "    last_batch = list(it) + random.sample(indices[:last_full_batch_index], need_extra)\n",
    "    batches.append(tuple(last_batch))\n",
    "\n",
    "batches"
   ]
  },
  {
   "cell_type": "code",
   "execution_count": 3,
   "metadata": {},
   "outputs": [],
   "source": [
    "#e\n",
    "def chunkify(container, chunk_size):\n",
    "    num_items = len(container)\n",
    "    it = iter(container)\n",
    "\n",
    "    full_chunks = num_items // chunk_size\n",
    "    leftover = num_items - full_chunks*chunk_size\n",
    "\n",
    "    chunks = [list(itertools.islice(it, chunk_size)) for _ in range(full_chunks)]\n",
    "    if leftover: chunks.append(list(it))\n",
    "    \n",
    "    return chunks"
   ]
  },
  {
   "cell_type": "code",
   "execution_count": 4,
   "metadata": {},
   "outputs": [
    {
     "data": {
      "text/plain": [
       "[[0, 1, 2], [3, 4]]"
      ]
     },
     "execution_count": 4,
     "metadata": {},
     "output_type": "execute_result"
    }
   ],
   "source": [
    "chunk_size = 3\n",
    "num_items = 5\n",
    "indices = list(range(num_items))\n",
    "\n",
    "list(chunkify(indices, chunk_size))"
   ]
  },
  {
   "cell_type": "code",
   "execution_count": 15,
   "metadata": {},
   "outputs": [],
   "source": [
    "#e\n",
    "class SamplerIter:\n",
    "    def __init__(self, indices, batch_size, shuffle, drop_last):\n",
    "        self.indices = indices\n",
    "        self.batch_size = batch_size\n",
    "        self.shuffle = shuffle\n",
    "        self.drop_last = drop_last\n",
    "\n",
    "    def __iter__(self):\n",
    "        if self.shuffle: random.shuffle(self.indices)\n",
    "\n",
    "        batches = chunkify(self.indices, self.batch_size)\n",
    "        need_extra = self.batch_size - len(batches[-1])\n",
    "        if need_extra:\n",
    "            if self.drop_last:\n",
    "                batches.pop()\n",
    "            else:\n",
    "                batches[-1].extend(random.choices(self.indices, k=need_extra))\n",
    "\n",
    "        yield from batches\n",
    "\n",
    "class Sampler:\n",
    "    def __init__(self, num_items):\n",
    "        self.num_items = num_items\n",
    "\n",
    "    def iter(self, batch_size, shuffle=False, drop_last=False):\n",
    "        indices = list(range(self.num_items))\n",
    "        return SamplerIter(indices, batch_size, shuffle, drop_last)"
   ]
  },
  {
   "cell_type": "code",
   "execution_count": 16,
   "metadata": {},
   "outputs": [
    {
     "name": "stdout",
     "output_type": "stream",
     "text": [
      "default\t\t [[0, 1, 2, 3], [4, 5, 4, 3]]\n",
      "drop\t\t [[0, 1, 2, 3]]\n",
      "shuffle\t\t [[1, 2, 3, 5], [0, 4, 0, 1]]\n",
      "shuffle+drop\t [[0, 3, 2, 4]]\n"
     ]
    }
   ],
   "source": [
    "s = Sampler(6)\n",
    "\n",
    "print(\"default\\t\\t\", list(s.iter(4)))\n",
    "print(\"drop\\t\\t\", list(s.iter(4, drop_last=True)))\n",
    "print(\"shuffle\\t\\t\", list(s.iter(4, shuffle=True)))\n",
    "print(\"shuffle+drop\\t\", list(s.iter(4, shuffle=True, drop_last=True)))"
   ]
  },
  {
   "cell_type": "code",
   "execution_count": 13,
   "metadata": {},
   "outputs": [
    {
     "data": {
      "text/plain": [
       "[[0, 0, 0, 0, 0, 0, 0, 0, 0, 0, 0, 0, 0, 0, 0, 0]]"
      ]
     },
     "execution_count": 13,
     "metadata": {},
     "output_type": "execute_result"
    }
   ],
   "source": [
    "s = Sampler(1)\n",
    "list(s.iter(16))"
   ]
  },
  {
   "cell_type": "code",
   "execution_count": 17,
   "metadata": {},
   "outputs": [
    {
     "name": "stdout",
     "output_type": "stream",
     "text": [
      "Processing minai_nbs/datasets.ipynb -> minai/minai/datasets.py\n",
      "  2 cells exported, took 0.001s \n",
      "Processing minai_nbs/sampler.ipynb -> minai/minai/sampler.py\n",
      "  3 cells exported, took 0.000s \n",
      "Processing minai_nbs/setup+template.py -> minai/setup.py\n",
      "  same contents, skipping, took 0.000s\n",
      "Processing minai_nbs/__init__+template.py -> minai/minai/__init__.py\n",
      "  same contents, skipping, took 0.000s\n",
      "Processing minai_nbs/plot.ipynb -> minai/minai/plot.py\n",
      "  nothing to export, took 0.000s\n",
      "Processing minai_nbs/mintils.py -> minai/minai/mintils.py\n",
      "  same contents, skipping, took 0.000s\n",
      "Processing minai_nbs/data.ipynb -> minai/minai/data.py\n",
      "  3 cells exported, took 0.000s \n",
      "\n",
      "All done... took 0.003s\n",
      "  lib_name: minai\n",
      "  author: nblzv\n",
      "  version: 0.1.1\n"
     ]
    }
   ],
   "source": [
    "import z_export\n",
    "z_export.export()"
   ]
  }
 ],
 "metadata": {
  "kernelspec": {
   "display_name": "base",
   "language": "python",
   "name": "python3"
  },
  "language_info": {
   "codemirror_mode": {
    "name": "ipython",
    "version": 3
   },
   "file_extension": ".py",
   "mimetype": "text/x-python",
   "name": "python",
   "nbconvert_exporter": "python",
   "pygments_lexer": "ipython3",
   "version": "3.11.4"
  },
  "orig_nbformat": 4
 },
 "nbformat": 4,
 "nbformat_minor": 2
}
