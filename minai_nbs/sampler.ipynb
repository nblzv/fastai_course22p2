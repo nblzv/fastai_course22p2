{
 "cells": [
  {
   "cell_type": "code",
   "execution_count": 1,
   "metadata": {},
   "outputs": [],
   "source": [
    "#e\n",
    "import itertools\n",
    "import random"
   ]
  },
  {
   "cell_type": "code",
   "execution_count": 2,
   "metadata": {},
   "outputs": [
    {
     "data": {
      "text/plain": [
       "[(0, 1, 2, 3), (4, 1, 0, 3)]"
      ]
     },
     "execution_count": 2,
     "metadata": {},
     "output_type": "execute_result"
    }
   ],
   "source": [
    "bs = 4\n",
    "num_items = 5\n",
    "indices = tuple(range(num_items))\n",
    "\n",
    "full_batches = (num_items) // bs\n",
    "last_full_batch_index = full_batches*bs\n",
    "leftover = num_items - last_full_batch_index\n",
    "\n",
    "it = iter(indices)\n",
    "batches = list(tuple(itertools.islice(it, bs)) for _ in range(full_batches))\n",
    "\n",
    "if leftover:\n",
    "    need_extra = bs - leftover\n",
    "    last_batch = list(it) + random.sample(indices[:last_full_batch_index], need_extra)\n",
    "    batches.append(tuple(last_batch))\n",
    "\n",
    "batches"
   ]
  },
  {
   "cell_type": "code",
   "execution_count": 3,
   "metadata": {},
   "outputs": [],
   "source": [
    "#e\n",
    "def chunkify_calc_sizes(container, chunk_size):\n",
    "    num_items = len(container)\n",
    "    full_chunks = num_items // chunk_size\n",
    "    leftover = num_items - full_chunks*chunk_size\n",
    "    return full_chunks, leftover\n",
    "\n",
    "def chunkify(container, chunk_size):\n",
    "    #if len(container) <= chunk_size: return [container]\n",
    "    \n",
    "    full_chunks, leftover = chunkify_calc_sizes(container, chunk_size)\n",
    "\n",
    "    it = iter(container)\n",
    "    chunks = [list(itertools.islice(it, chunk_size)) for _ in range(full_chunks)]\n",
    "    if leftover: chunks.append(list(it))\n",
    "    \n",
    "    return chunks"
   ]
  },
  {
   "cell_type": "code",
   "execution_count": 4,
   "metadata": {},
   "outputs": [
    {
     "data": {
      "text/plain": [
       "[[0, 1, 2], [3, 4]]"
      ]
     },
     "execution_count": 4,
     "metadata": {},
     "output_type": "execute_result"
    }
   ],
   "source": [
    "chunk_size = 3\n",
    "num_items = 5\n",
    "indices = list(range(num_items))\n",
    "\n",
    "list(chunkify(indices, chunk_size))"
   ]
  },
  {
   "cell_type": "code",
   "execution_count": 5,
   "metadata": {},
   "outputs": [],
   "source": [
    "#e\n",
    "class SIOPTS: # SamplerIterOpts\n",
    "    def __init__(self, batch_size=64, shuffle=False, drop_last=False):\n",
    "        self.batch_size = batch_size\n",
    "        self.shuffle = shuffle\n",
    "        self.drop_last = drop_last\n",
    "\n",
    "    def __repr__(self):\n",
    "        return f\"SIO(batch_size={self.batch_size}, shuffle={self.shuffle}, drop_last={self.drop_last})\"\n",
    "\n",
    "class SamplerIter:\n",
    "    def __init__(self, indices, sampler_iter_opts: SIOPTS):\n",
    "        self.indices = indices\n",
    "        self.opts = sampler_iter_opts\n",
    "\n",
    "        full_chunks, leftover = chunkify_calc_sizes(self.indices, self.opts.batch_size)\n",
    "        self.num_batches = full_chunks + (not self.opts.drop_last)*bool(leftover)\n",
    "\n",
    "    def __repr__(self):\n",
    "        return f\"SamplerIter(num_batches={self.num_batches}, opts={self.opts})\"\n",
    "\n",
    "    def __iter__(self):\n",
    "        if self.opts.shuffle: random.shuffle(self.indices)\n",
    "\n",
    "        batches = chunkify(self.indices, self.opts.batch_size)\n",
    "        need_extra = self.opts.batch_size - len(batches[-1])\n",
    "        if need_extra:\n",
    "            if self.opts.drop_last:\n",
    "                batches.pop()\n",
    "            else:\n",
    "                batches[-1].extend(random.choices(self.indices, k=need_extra))\n",
    "\n",
    "        yield from batches\n",
    "\n",
    "class Sampler:\n",
    "    def __init__(self, num_items):\n",
    "        self.num_items = num_items\n",
    "\n",
    "    def iter(self, sampler_iter_opts=None):\n",
    "        sampler_iter_opts = sampler_iter_opts or SIOPTS()\n",
    "        indices = list(range(self.num_items))\n",
    "        return SamplerIter(indices, sampler_iter_opts)"
   ]
  },
  {
   "cell_type": "code",
   "execution_count": 6,
   "metadata": {},
   "outputs": [],
   "source": [
    "s = Sampler(6)"
   ]
  },
  {
   "cell_type": "code",
   "execution_count": 7,
   "metadata": {},
   "outputs": [
    {
     "name": "stdout",
     "output_type": "stream",
     "text": [
      "{'indices': [0, 1, 2, 3, 4, 5], 'opts': SIO(batch_size=4, shuffle=False, drop_last=False), 'num_batches': 2}\n",
      "default\t\t [[0, 1, 2, 3], [4, 5, 3, 2]]\n",
      "drop\t\t [[0, 1, 2, 3]]\n",
      "shuffle\t\t [[5, 3, 2, 0], [1, 4, 1, 4]]\n",
      "shuffle+drop\t [[1, 0, 3, 2]]\n"
     ]
    }
   ],
   "source": [
    "print(vars(s.iter(SIOPTS(4))))\n",
    "print(\"default\\t\\t\", list(s.iter(SIOPTS(4))))\n",
    "print(\"drop\\t\\t\", list(s.iter(SIOPTS(4, drop_last=True))))\n",
    "print(\"shuffle\\t\\t\", list(s.iter(SIOPTS(4, shuffle=True))))\n",
    "print(\"shuffle+drop\\t\", list(s.iter(SIOPTS(4, shuffle=True, drop_last=True))))"
   ]
  },
  {
   "cell_type": "code",
   "execution_count": 10,
   "metadata": {},
   "outputs": [
    {
     "data": {
      "text/plain": [
       "[[0, 0, 0, 0, 0, 0, 0, 0, 0, 0, 0, 0, 0, 0, 0, 0]]"
      ]
     },
     "execution_count": 10,
     "metadata": {},
     "output_type": "execute_result"
    }
   ],
   "source": [
    "s = Sampler(1)\n",
    "list(s.iter(SIOPTS(16)))"
   ]
  },
  {
   "cell_type": "code",
   "execution_count": 11,
   "metadata": {},
   "outputs": [
    {
     "name": "stdout",
     "output_type": "stream",
     "text": [
      "Processing minai_nbs/datasets.ipynb -> minai/minai/datasets.py  |  same contents, skipping, took 0.001s\n",
      "Processing minai_nbs/sampler.ipynb -> minai/minai/sampler.py  |  same contents, skipping, took 0.000s\n",
      "Processing minai_nbs/setup+template.py -> minai/setup.py  |  same contents, skipping, took 0.000s\n",
      "Processing minai_nbs/__init__+template.py -> minai/minai/__init__.py  |  same contents, skipping, took 0.000s\n",
      "Processing minai_nbs/plot.ipynb -> minai/minai/plot.py  |  same contents, skipping, took 0.000s\n",
      "Processing minai_nbs/mintils.py -> minai/minai/mintils.py  |  same contents, skipping, took 0.000s\n",
      "Processing minai_nbs/data.ipynb -> minai/minai/data.py  |  same contents, skipping, took 0.000s\n",
      "\n",
      "All done... took 0.003s\n",
      "  lib_name: minai\n",
      "  author: nblzv\n",
      "  version: 0.1.1\n"
     ]
    }
   ],
   "source": [
    "import z_export\n",
    "z_export.export()"
   ]
  }
 ],
 "metadata": {
  "kernelspec": {
   "display_name": "base",
   "language": "python",
   "name": "python3"
  },
  "language_info": {
   "codemirror_mode": {
    "name": "ipython",
    "version": 3
   },
   "file_extension": ".py",
   "mimetype": "text/x-python",
   "name": "python",
   "nbconvert_exporter": "python",
   "pygments_lexer": "ipython3",
   "version": "3.11.4"
  },
  "orig_nbformat": 4
 },
 "nbformat": 4,
 "nbformat_minor": 2
}
