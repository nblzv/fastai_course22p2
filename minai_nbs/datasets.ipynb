{
 "cells": [
  {
   "cell_type": "code",
   "execution_count": 2,
   "metadata": {},
   "outputs": [],
   "source": [
    "#e\n",
    "from pathlib import Path\n",
    "from urllib.request import urlretrieve\n",
    "import gzip\n",
    "import pickle\n",
    "\n",
    "import torch\n",
    "import datasets as hfds\n",
    "\n",
    "DATASETS_CACHE_BASE_PATH = Path(\"~/.cache/minai/datasets\").expanduser()"
   ]
  },
  {
   "cell_type": "code",
   "execution_count": 3,
   "metadata": {},
   "outputs": [],
   "source": [
    "#e\n",
    "class SimpleDataset:\n",
    "    def __init__(self, xs, ys):\n",
    "        self.xs = xs\n",
    "        self.ys = ys\n",
    "        assert len(xs) == len(ys)\n",
    "        self.len = len(xs)\n",
    "\n",
    "    def __len__(self):\n",
    "        return self.len\n",
    "    \n",
    "    def __getitem__(self, i):\n",
    "        assert type(i) is int\n",
    "        return self.xs[i], self.ys[i]\n",
    "    \n",
    "    def __repr__(self):\n",
    "        return f\"SimpleDataset(len={self.len}, \"\\\n",
    "            f\"xs={type(self.xs[0]).__qualname__}, \"\\\n",
    "            f\"ys={type(self.ys[0]).__qualname__})\""
   ]
  },
  {
   "cell_type": "code",
   "execution_count": 4,
   "metadata": {},
   "outputs": [],
   "source": [
    "#e\n",
    "def load_mnist():\n",
    "    MNIST_URL = \"https://github.com/mnielsen/neural-networks-and-deep-learning/raw/master/data/mnist.pkl.gz\"\n",
    "    \n",
    "    path_data = DATASETS_CACHE_BASE_PATH / \"MNIST\"\n",
    "    path_data.mkdir(exist_ok=True, parents=True)\n",
    "    path_zip = path_data / \"mnist.zip\"\n",
    "\n",
    "    if not path_zip.exists(): \n",
    "        print(f\"Downloading file to {path_zip}\")\n",
    "        urlretrieve(MNIST_URL, path_zip)\n",
    "\n",
    "    with gzip.open(path_zip) as f: \n",
    "        (x_train, y_train), (x_val, y_val), (x_test, y_test) = pickle.load(f, encoding=\"latin-1\")\n",
    "        x_train, y_train, x_val, y_val, x_test, y_test = map(torch.tensor, (x_train, y_train, x_val, y_val, x_test, y_test))\n",
    "    \n",
    "    dsd = dict(\n",
    "        train=SimpleDataset(x_train, y_train),\n",
    "        valid=SimpleDataset(x_val, y_val),\n",
    "        test=SimpleDataset(x_test, y_test)\n",
    "    )\n",
    "    \n",
    "    return dsd"
   ]
  },
  {
   "cell_type": "code",
   "execution_count": 5,
   "metadata": {},
   "outputs": [
    {
     "data": {
      "text/plain": [
       "{'train': SimpleDataset(len=50000, xs=Tensor, ys=Tensor),\n",
       " 'valid': SimpleDataset(len=10000, xs=Tensor, ys=Tensor),\n",
       " 'test': SimpleDataset(len=10000, xs=Tensor, ys=Tensor)}"
      ]
     },
     "execution_count": 5,
     "metadata": {},
     "output_type": "execute_result"
    }
   ],
   "source": [
    "mnist = load_mnist()\n",
    "mnist"
   ]
  },
  {
   "cell_type": "code",
   "execution_count": 6,
   "metadata": {},
   "outputs": [],
   "source": [
    "#e\n",
    "class HF_DATASETS:\n",
    "    FASHION_MNIST = \"fashion_mnist\"\n",
    "    TINY_IMAGENET = \"zh-plus/tiny-imagenet\"\n",
    "\n",
    "hf_load = hfds.load_dataset"
   ]
  },
  {
   "cell_type": "code",
   "execution_count": 7,
   "metadata": {},
   "outputs": [
    {
     "name": "stderr",
     "output_type": "stream",
     "text": [
      "Found cached dataset fashion_mnist (/home/nblzv/.cache/huggingface/datasets/fashion_mnist/fashion_mnist/1.0.0/0a671f063342996f19779d38c0ab4abef9c64f757b35af8134b331c294d7ba48)\n"
     ]
    },
    {
     "data": {
      "application/vnd.jupyter.widget-view+json": {
       "model_id": "5ed84ac12e924df09a7905a9a8bdc4be",
       "version_major": 2,
       "version_minor": 0
      },
      "text/plain": [
       "  0%|          | 0/2 [00:00<?, ?it/s]"
      ]
     },
     "metadata": {},
     "output_type": "display_data"
    }
   ],
   "source": [
    "fashion_mnist = hf_load(HF_DATASETS.FASHION_MNIST)"
   ]
  },
  {
   "cell_type": "code",
   "execution_count": 8,
   "metadata": {},
   "outputs": [
    {
     "data": {
      "text/plain": [
       "DatasetDict({\n",
       "    train: Dataset({\n",
       "        features: ['image', 'label'],\n",
       "        num_rows: 60000\n",
       "    })\n",
       "    test: Dataset({\n",
       "        features: ['image', 'label'],\n",
       "        num_rows: 10000\n",
       "    })\n",
       "})"
      ]
     },
     "execution_count": 8,
     "metadata": {},
     "output_type": "execute_result"
    }
   ],
   "source": [
    "fashion_mnist"
   ]
  },
  {
   "cell_type": "code",
   "execution_count": 9,
   "metadata": {},
   "outputs": [
    {
     "name": "stdout",
     "output_type": "stream",
     "text": [
      "Processing minai_nbs/datasets.ipynb -> minai/minai/datasets.py  |  4 cells exported, took 0.001s \n",
      "Processing minai_nbs/sampler.ipynb -> minai/minai/sampler.py  |  same contents, skipping, took 0.000s\n",
      "Processing minai_nbs/setup+template.py -> minai/setup.py  |  same contents, skipping, took 0.000s\n",
      "Processing minai_nbs/__init__+template.py -> minai/minai/__init__.py  |  same contents, skipping, took 0.000s\n",
      "Processing minai_nbs/plot.ipynb -> minai/minai/plot.py  |  same contents, skipping, took 0.000s\n",
      "Processing minai_nbs/mintils.py -> minai/minai/mintils.py  |  same contents, skipping, took 0.000s\n",
      "Processing minai_nbs/data.ipynb -> minai/minai/data.py  |  same contents, skipping, took 0.001s\n",
      "\n",
      "All done... took 0.003s\n",
      "  lib_name: minai\n",
      "  author: nblzv\n",
      "  version: 0.1.1\n"
     ]
    }
   ],
   "source": [
    "import z_export\n",
    "z_export.export()"
   ]
  },
  {
   "cell_type": "code",
   "execution_count": null,
   "metadata": {},
   "outputs": [],
   "source": []
  }
 ],
 "metadata": {
  "kernelspec": {
   "display_name": "base",
   "language": "python",
   "name": "python3"
  },
  "language_info": {
   "codemirror_mode": {
    "name": "ipython",
    "version": 3
   },
   "file_extension": ".py",
   "mimetype": "text/x-python",
   "name": "python",
   "nbconvert_exporter": "python",
   "pygments_lexer": "ipython3",
   "version": "3.11.4"
  },
  "orig_nbformat": 4
 },
 "nbformat": 4,
 "nbformat_minor": 2
}
