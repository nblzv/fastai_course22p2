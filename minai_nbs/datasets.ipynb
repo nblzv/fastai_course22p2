{
 "cells": [
  {
   "cell_type": "code",
   "execution_count": 1,
   "metadata": {},
   "outputs": [],
   "source": [
    "#e\n",
    "from pathlib import Path\n",
    "from urllib.request import urlretrieve\n",
    "import gzip\n",
    "import pickle\n",
    "from torch import tensor\n",
    "\n",
    "DATASETS_BASE_PATH = Path(\"~/.cache/minai/datasets\").expanduser()\n"
   ]
  },
  {
   "cell_type": "code",
   "execution_count": 2,
   "metadata": {},
   "outputs": [],
   "source": [
    "#e\n",
    "def load_mnist():\n",
    "    MNIST_URL = \"https://github.com/mnielsen/neural-networks-and-deep-learning/raw/master/data/mnist.pkl.gz\"\n",
    "    \n",
    "    path_data = DATASETS_BASE_PATH / \"MNIST\"\n",
    "    path_data.mkdir(exist_ok=True, parents=True)\n",
    "    path_zip = path_data / \"mnist.zip\"\n",
    "\n",
    "    if not path_zip.exists(): \n",
    "        print(f\"Downloading file to {path_zip}\")\n",
    "        urlretrieve(MNIST_URL, path_zip)\n",
    "\n",
    "    with gzip.open(path_zip) as f: \n",
    "        (x_train, y_train), (x_val, y_val), (x_test, y_test) = pickle.load(f, encoding=\"latin-1\")\n",
    "        x_train, y_train, x_val, y_val, x_test, y_test = map(tensor, (x_train, y_train, x_val, y_val, x_test, y_test))\n",
    "    \n",
    "    return x_train, y_train, x_val, y_val, x_test, y_test"
   ]
  },
  {
   "cell_type": "code",
   "execution_count": null,
   "metadata": {},
   "outputs": [],
   "source": []
  },
  {
   "cell_type": "code",
   "execution_count": 10,
   "metadata": {},
   "outputs": [
    {
     "name": "stdout",
     "output_type": "stream",
     "text": [
      "Processing minai_nbs/datasets.ipynb -> minai/minai/datasets.py\n",
      "  same contents, skipping, took 0.001s\n",
      "Processing minai_nbs/plot.ipynb -> minai/minai/plot.py\n",
      "  nothing to export, took 0.000s\n",
      "Processing minai_nbs/mintils.py -> minai/minai/mintils.py\n",
      "  same contents, skipping, took 0.000s\n",
      "\n",
      "All done... took 0.003s\n",
      "  lib_name: minai\n",
      "  author: nblzv\n",
      "  version: 0.1.0\n"
     ]
    }
   ],
   "source": [
    "import z_export\n",
    "z_export.export()"
   ]
  },
  {
   "cell_type": "code",
   "execution_count": null,
   "metadata": {},
   "outputs": [],
   "source": []
  }
 ],
 "metadata": {
  "kernelspec": {
   "display_name": "base",
   "language": "python",
   "name": "python3"
  },
  "language_info": {
   "codemirror_mode": {
    "name": "ipython",
    "version": 3
   },
   "file_extension": ".py",
   "mimetype": "text/x-python",
   "name": "python",
   "nbconvert_exporter": "python",
   "pygments_lexer": "ipython3",
   "version": "3.11.4"
  },
  "orig_nbformat": 4
 },
 "nbformat": 4,
 "nbformat_minor": 2
}
